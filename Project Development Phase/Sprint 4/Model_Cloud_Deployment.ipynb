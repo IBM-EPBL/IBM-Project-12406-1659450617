{
  "cells": [
    {
      "cell_type": "markdown",
      "source": [
        "# Sprint 4 - Cloud Deployment✅\n",
        "---\n",
        "\n",
        "\n",
        "> Team Id : PNT2022TMID32148 \n",
        "\n",
        "\n",
        "\n",
        "\n"
      ],
      "metadata": {
        "id": "8w8FPmNwq_Fm"
      },
      "id": "8w8FPmNwq_Fm"
    },
    {
      "cell_type": "code",
      "execution_count": 10,
      "id": "18f65ccc",
      "metadata": {
        "id": "18f65ccc"
      },
      "outputs": [],
      "source": [
        "import numpy as np\n",
        "import tensorflow as tf\n",
        "from keras.datasets import mnist\n",
        "from keras.models import Sequential\n",
        "from keras import layers\n",
        "from keras.layers import Dense,Flatten\n",
        "from keras.layers import Conv2D\n",
        "from keras.optimizers import Adam\n",
        "from keras.utils import np_utils\n",
        "import matplotlib.pyplot as plt\n",
        "from keras.callbacks import EarlyStopping, ReduceLROnPlateau"
      ]
    },
    {
      "cell_type": "code",
      "execution_count": 2,
      "id": "db6d213c",
      "metadata": {
        "id": "db6d213c",
        "outputId": "9d5fd9e7-df6d-4e99-9a43-3d25c5d5e41e",
        "colab": {
          "base_uri": "https://localhost:8080/"
        }
      },
      "outputs": [
        {
          "output_type": "stream",
          "name": "stdout",
          "text": [
            "Downloading data from https://storage.googleapis.com/tensorflow/tf-keras-datasets/mnist.npz\n",
            "11490434/11490434 [==============================] - 0s 0us/step\n",
            "(60000, 28, 28)\n",
            "(10000, 28, 28)\n"
          ]
        }
      ],
      "source": [
        "(X_train,y_train),(X_test,y_test) =mnist.load_data()\n",
        "print(X_train.shape)\n",
        "print(X_test.shape)"
      ]
    },
    {
      "cell_type": "code",
      "execution_count": 3,
      "id": "64b88dd4",
      "metadata": {
        "id": "64b88dd4",
        "outputId": "7ed5d885-e34f-4b96-d5c5-4bd9ec37547f",
        "colab": {
          "base_uri": "https://localhost:8080/",
          "height": 300
        }
      },
      "outputs": [
        {
          "output_type": "stream",
          "name": "stdout",
          "text": [
            "The label value is  6\n"
          ]
        },
        {
          "output_type": "execute_result",
          "data": {
            "text/plain": [
              "<matplotlib.image.AxesImage at 0x7f4c9fd45e50>"
            ]
          },
          "metadata": {},
          "execution_count": 3
        },
        {
          "output_type": "display_data",
          "data": {
            "text/plain": [
              "<Figure size 432x288 with 1 Axes>"
            ],
            "image/png": "[encoded data removed]"
          },
          "metadata": {
            "needs_background": "light"
          }
        }
      ],
      "source": [
        "print(\"The label value is \",y_test[21])\n",
        "plt.imshow(X_test[21])"
      ]
    },
    {
      "cell_type": "code",
      "source": [
        "print(\"The label value is \",y_train[24])\n",
        "plt.imshow(X_train[24])"
      ],
      "metadata": {
        "colab": {
          "base_uri": "https://localhost:8080/",
          "height": 300
        },
        "id": "CJat6_BTAK6x",
        "outputId": "5857ffc6-729e-44d5-841f-843610020b1e"
      },
      "id": "CJat6_BTAK6x",
      "execution_count": 4,
      "outputs": [
        {
          "output_type": "stream",
          "name": "stdout",
          "text": [
            "The label value is  1\n"
          ]
        },
        {
          "output_type": "execute_result",
          "data": {
            "text/plain": [
              "<matplotlib.image.AxesImage at 0x7f4c9f830690>"
            ]
          },
          "metadata": {},
          "execution_count": 4
        },
        {
          "output_type": "display_data",
          "data": {
            "text/plain": [
              "<Figure size 432x288 with 1 Axes>"
            ],
            "image/png": "[encoded data removed]"
          },
          "metadata": {
            "needs_background": "light"
          }
        }
      ]
    },
    {
      "cell_type": "code",
      "execution_count": 5,
      "id": "02127220",
      "metadata": {
        "id": "02127220"
      },
      "outputs": [],
      "source": [
        "X_train = X_train.reshape(60000, 28, 28, 1).astype('float32')\n",
        "X_test = X_test.reshape(10000, 28, 28, 1).astype('float32')"
      ]
    },
    {
      "cell_type": "code",
      "source": [
        "number_of_classes= 10\n",
        "y_train = np_utils.to_categorical(y_train,number_of_classes)\n",
        "y_test = np_utils.to_categorical(y_test,number_of_classes)"
      ],
      "metadata": {
        "id": "rR_tXQcRASJj"
      },
      "id": "rR_tXQcRASJj",
      "execution_count": 6,
      "outputs": []
    },
    {
      "cell_type": "code",
      "source": [
        "print(\"After encoding the value 6 of y_test[21] become\", y_test[21])"
      ],
      "metadata": {
        "colab": {
          "base_uri": "https://localhost:8080/"
        },
        "id": "KIDPI309AWG7",
        "outputId": "295868b0-8b38-4c72-9257-1c41644ffb13"
      },
      "id": "KIDPI309AWG7",
      "execution_count": 7,
      "outputs": [
        {
          "output_type": "stream",
          "name": "stdout",
          "text": [
            "After encoding the value 6 of y_test[21] become [0. 0. 0. 0. 0. 0. 1. 0. 0. 0.]\n"
          ]
        }
      ]
    },
    {
      "cell_type": "code",
      "execution_count": 8,
      "id": "187d5e27",
      "metadata": {
        "id": "187d5e27"
      },
      "outputs": [],
      "source": [
        "model= tf.keras.Sequential()\n",
        "model.add(Conv2D(64,(3,3),input_shape=(28,28,1),activation='relu'))\n",
        "model.add(Conv2D(32,(3,3),activation='relu'))\n",
        "model.add(Flatten())\n",
        "model.add(Dense(number_of_classes,activation='softmax'))"
      ]
    },
    {
      "cell_type": "code",
      "execution_count": 9,
      "id": "e1f8d3ae",
      "metadata": {
        "id": "e1f8d3ae"
      },
      "outputs": [],
      "source": [
        "model.compile(loss='categorical_crossentropy',optimizer=\"Adam\", metrics=['accuracy'])"
      ]
    },
    {
      "cell_type": "code",
      "source": [
        "early_stopping = EarlyStopping(monitor='accuracy',\n",
        "                        patience=3)\n",
        "reduce_lr = ReduceLROnPlateau(monitor='accuracy',\n",
        "                        patience=3,\n",
        "                        factor=0.5,min_lr=0.00001)\n",
        "\n",
        "callback = [reduce_lr,early_stopping]"
      ],
      "metadata": {
        "id": "IS0ZxU50CAdl"
      },
      "id": "IS0ZxU50CAdl",
      "execution_count": 11,
      "outputs": []
    },
    {
      "cell_type": "code",
      "execution_count": 12,
      "id": "ca9237bc",
      "metadata": {
        "id": "ca9237bc",
        "outputId": "ed460db1-efca-4765-cd14-a2b1a28c5d09",
        "colab": {
          "base_uri": "https://localhost:8080/"
        }
      },
      "outputs": [
        {
          "output_type": "stream",
          "name": "stdout",
          "text": [
            "Epoch 1/15\n",
            "1875/1875 [==============================] - 202s 107ms/step - loss: 0.2709 - accuracy: 0.9492 - val_loss: 0.0962 - val_accuracy: 0.9697 - lr: 0.0010\n",
            "Epoch 2/15\n",
            "1875/1875 [==============================] - 198s 106ms/step - loss: 0.0744 - accuracy: 0.9773 - val_loss: 0.0775 - val_accuracy: 0.9765 - lr: 0.0010\n",
            "Epoch 3/15\n",
            "1875/1875 [==============================] - 198s 105ms/step - loss: 0.0495 - accuracy: 0.9845 - val_loss: 0.1020 - val_accuracy: 0.9708 - lr: 0.0010\n",
            "Epoch 4/15\n",
            "1875/1875 [==============================] - 199s 106ms/step - loss: 0.0415 - accuracy: 0.9868 - val_loss: 0.0958 - val_accuracy: 0.9761 - lr: 0.0010\n",
            "Epoch 5/15\n",
            "1875/1875 [==============================] - 198s 105ms/step - loss: 0.0308 - accuracy: 0.9900 - val_loss: 0.1217 - val_accuracy: 0.9718 - lr: 0.0010\n",
            "Epoch 6/15\n",
            "1875/1875 [==============================] - 198s 106ms/step - loss: 0.0248 - accuracy: 0.9920 - val_loss: 0.1127 - val_accuracy: 0.9755 - lr: 0.0010\n",
            "Epoch 7/15\n",
            "1875/1875 [==============================] - 200s 106ms/step - loss: 0.0194 - accuracy: 0.9941 - val_loss: 0.1338 - val_accuracy: 0.9746 - lr: 0.0010\n",
            "Epoch 8/15\n",
            "1875/1875 [==============================] - 199s 106ms/step - loss: 0.0198 - accuracy: 0.9941 - val_loss: 0.1462 - val_accuracy: 0.9761 - lr: 0.0010\n",
            "Epoch 9/15\n",
            "1875/1875 [==============================] - 198s 106ms/step - loss: 0.0201 - accuracy: 0.9946 - val_loss: 0.1336 - val_accuracy: 0.9782 - lr: 0.0010\n",
            "Epoch 10/15\n",
            "1875/1875 [==============================] - 201s 107ms/step - loss: 0.0123 - accuracy: 0.9966 - val_loss: 0.1647 - val_accuracy: 0.9766 - lr: 0.0010\n",
            "Epoch 11/15\n",
            "1875/1875 [==============================] - 201s 107ms/step - loss: 0.0168 - accuracy: 0.9961 - val_loss: 0.1644 - val_accuracy: 0.9799 - lr: 0.0010\n",
            "Epoch 12/15\n",
            "1875/1875 [==============================] - 200s 106ms/step - loss: 0.0137 - accuracy: 0.9966 - val_loss: 0.1997 - val_accuracy: 0.9777 - lr: 0.0010\n",
            "Epoch 13/15\n",
            "1875/1875 [==============================] - 202s 108ms/step - loss: 0.0134 - accuracy: 0.9967 - val_loss: 0.2259 - val_accuracy: 0.9786 - lr: 0.0010\n",
            "Epoch 14/15\n",
            "1875/1875 [==============================] - 205s 109ms/step - loss: 0.0151 - accuracy: 0.9966 - val_loss: 0.2748 - val_accuracy: 0.9784 - lr: 0.0010\n",
            "Epoch 15/15\n",
            "1875/1875 [==============================] - 206s 110ms/step - loss: 0.0197 - accuracy: 0.9965 - val_loss: 0.2616 - val_accuracy: 0.9786 - lr: 0.0010\n"
          ]
        },
        {
          "output_type": "execute_result",
          "data": {
            "text/plain": [
              "<keras.callbacks.History at 0x7f4c9b486850>"
            ]
          },
          "metadata": {},
          "execution_count": 12
        }
      ],
      "source": [
        "model.fit(X_train, y_train, validation_data=(X_test, y_test),epochs=15,batch_size=32,callbacks=callback)"
      ]
    },
    {
      "cell_type": "code",
      "execution_count": 13,
      "id": "4e6fb855",
      "metadata": {
        "id": "4e6fb855",
        "outputId": "24e160e7-c006-4926-d180-13d42015d865",
        "colab": {
          "base_uri": "https://localhost:8080/"
        }
      },
      "outputs": [
        {
          "output_type": "stream",
          "name": "stdout",
          "text": [
            "loss & accuracy\n",
            "[0.2615804076194763, 0.978600025177002]\n"
          ]
        }
      ],
      "source": [
        "metrics=model.evaluate(X_test,y_test,verbose=0)\n",
        "print(\"loss & accuracy\")\n",
        "print(metrics)"
      ]
    },
    {
      "cell_type": "code",
      "execution_count": 14,
      "id": "f98e8e41",
      "metadata": {
        "id": "f98e8e41",
        "outputId": "6e241a15-16d2-4a1d-debb-b75ec473665f",
        "colab": {
          "base_uri": "https://localhost:8080/"
        }
      },
      "outputs": [
        {
          "output_type": "stream",
          "name": "stdout",
          "text": [
            "1/1 [==============================] - 0s 108ms/step\n",
            "[7 2 1 0]\n",
            "[[0. 0. 0. 0. 0. 0. 0. 1. 0. 0.]\n",
            " [0. 0. 1. 0. 0. 0. 0. 0. 0. 0.]\n",
            " [0. 1. 0. 0. 0. 0. 0. 0. 0. 0.]\n",
            " [1. 0. 0. 0. 0. 0. 0. 0. 0. 0.]]\n"
          ]
        }
      ],
      "source": [
        "prediction=model.predict(X_test[:4])\n",
        "print(np.argmax(prediction,axis=1))\n",
        "print(y_test[:4])"
      ]
    },
    {
      "cell_type": "code",
      "execution_count": 18,
      "id": "d4c1917d",
      "metadata": {
        "id": "d4c1917d"
      },
      "outputs": [],
      "source": [
        "model.save('digit-recognition.h5')"
      ]
    },
    {
      "cell_type": "code",
      "source": [
        "!tar -zcvf digit-recognition.tar digit-recognition.h5"
      ],
      "metadata": {
        "colab": {
          "base_uri": "https://localhost:8080/"
        },
        "id": "YXcDiH7eSMC7",
        "outputId": "1e16a196-45f7-4254-8826-dc19f5be534f"
      },
      "id": "YXcDiH7eSMC7",
      "execution_count": 20,
      "outputs": [
        {
          "output_type": "stream",
          "name": "stdout",
          "text": [
            "digit-recognition.h5\n"
          ]
        }
      ]
    },
    {
      "cell_type": "code",
      "source": [
        "!pip install ibm_watson_machine_learning\n",
        "!pip install watson-machine-learning-client"
      ],
      "metadata": {
        "colab": {
          "base_uri": "https://localhost:8080/",
          "height": 1000
        },
        "id": "vjiyr2SdV2EV",
        "outputId": "52bbd769-1ff5-44c9-b0c5-0b5bdad4c78a"
      },
      "id": "vjiyr2SdV2EV",
      "execution_count": 25,
      "outputs": [
        {
          "output_type": "stream",
          "name": "stdout",
          "text": [
            "Looking in indexes: https://pypi.org/simple, https://us-python.pkg.dev/colab-wheels/public/simple/\n",
            "Requirement already satisfied: ibm_watson_machine_learning in /usr/local/lib/python3.7/dist-packages (1.0.256)\n",
            "Requirement already satisfied: importlib-metadata in /usr/local/lib/python3.7/dist-packages (from ibm_watson_machine_learning) (4.13.0)\n",
            "Requirement already satisfied: ibm-cos-sdk==2.7.* in /usr/local/lib/python3.7/dist-packages (from ibm_watson_machine_learning) (2.7.0)\n",
            "Requirement already satisfied: pandas<1.5.0,>=0.24.2 in /usr/local/lib/python3.7/dist-packages (from ibm_watson_machine_learning) (1.3.5)\n",
            "Requirement already satisfied: packaging in /usr/local/lib/python3.7/dist-packages (from ibm_watson_machine_learning) (21.3)\n",
            "Requirement already satisfied: requests in /usr/local/lib/python3.7/dist-packages (from ibm_watson_machine_learning) (2.23.0)\n",
            "Requirement already satisfied: lomond in /usr/local/lib/python3.7/dist-packages (from ibm_watson_machine_learning) (0.3.3)\n",
            "Requirement already satisfied: tabulate in /usr/local/lib/python3.7/dist-packages (from ibm_watson_machine_learning) (0.8.10)\n",
            "Requirement already satisfied: urllib3 in /usr/local/lib/python3.7/dist-packages (from ibm_watson_machine_learning) (1.24.3)\n",
            "Requirement already satisfied: certifi in /usr/local/lib/python3.7/dist-packages (from ibm_watson_machine_learning) (2022.9.24)\n",
            "Requirement already satisfied: ibm-cos-sdk-s3transfer==2.7.0 in /usr/local/lib/python3.7/dist-packages (from ibm-cos-sdk==2.7.*->ibm_watson_machine_learning) (2.7.0)\n",
            "Requirement already satisfied: jmespath<1.0.0,>=0.7.1 in /usr/local/lib/python3.7/dist-packages (from ibm-cos-sdk==2.7.*->ibm_watson_machine_learning) (0.10.0)\n",
            "Requirement already satisfied: ibm-cos-sdk-core==2.7.0 in /usr/local/lib/python3.7/dist-packages (from ibm-cos-sdk==2.7.*->ibm_watson_machine_learning) (2.7.0)\n",
            "Requirement already satisfied: docutils<0.16,>=0.10 in /usr/local/lib/python3.7/dist-packages (from ibm-cos-sdk-core==2.7.0->ibm-cos-sdk==2.7.*->ibm_watson_machine_learning) (0.15.2)\n",
            "Requirement already satisfied: python-dateutil<3.0.0,>=2.1 in /usr/local/lib/python3.7/dist-packages (from ibm-cos-sdk-core==2.7.0->ibm-cos-sdk==2.7.*->ibm_watson_machine_learning) (2.8.2)\n",
            "Requirement already satisfied: numpy>=1.17.3 in /usr/local/lib/python3.7/dist-packages (from pandas<1.5.0,>=0.24.2->ibm_watson_machine_learning) (1.21.6)\n",
            "Requirement already satisfied: pytz>=2017.3 in /usr/local/lib/python3.7/dist-packages (from pandas<1.5.0,>=0.24.2->ibm_watson_machine_learning) (2022.5)\n",
            "Requirement already satisfied: six>=1.5 in /usr/local/lib/python3.7/dist-packages (from python-dateutil<3.0.0,>=2.1->ibm-cos-sdk-core==2.7.0->ibm-cos-sdk==2.7.*->ibm_watson_machine_learning) (1.15.0)\n",
            "Requirement already satisfied: chardet<4,>=3.0.2 in /usr/local/lib/python3.7/dist-packages (from requests->ibm_watson_machine_learning) (3.0.4)\n",
            "Requirement already satisfied: idna<3,>=2.5 in /usr/local/lib/python3.7/dist-packages (from requests->ibm_watson_machine_learning) (2.10)\n",
            "Requirement already satisfied: zipp>=0.5 in /usr/local/lib/python3.7/dist-packages (from importlib-metadata->ibm_watson_machine_learning) (3.9.0)\n",
            "Requirement already satisfied: typing-extensions>=3.6.4 in /usr/local/lib/python3.7/dist-packages (from importlib-metadata->ibm_watson_machine_learning) (4.1.1)\n",
            "Requirement already satisfied: pyparsing!=3.0.5,>=2.0.2 in /usr/local/lib/python3.7/dist-packages (from packaging->ibm_watson_machine_learning) (3.0.9)\n",
            "Looking in indexes: https://pypi.org/simple, https://us-python.pkg.dev/colab-wheels/public/simple/\n",
            "Collecting watson-machine-learning-client\n",
            "  Downloading watson_machine_learning_client-1.0.391-py3-none-any.whl (538 kB)\n",
            "\u001b[K     |████████████████████████████████| 538 kB 4.0 MB/s \n",
            "\u001b[?25hRequirement already satisfied: pandas in /usr/local/lib/python3.7/dist-packages (from watson-machine-learning-client) (1.3.5)\n",
            "Requirement already satisfied: lomond in /usr/local/lib/python3.7/dist-packages (from watson-machine-learning-client) (0.3.3)\n",
            "Requirement already satisfied: ibm-cos-sdk in /usr/local/lib/python3.7/dist-packages (from watson-machine-learning-client) (2.7.0)\n",
            "Requirement already satisfied: requests in /usr/local/lib/python3.7/dist-packages (from watson-machine-learning-client) (2.23.0)\n",
            "Requirement already satisfied: tqdm in /usr/local/lib/python3.7/dist-packages (from watson-machine-learning-client) (4.64.1)\n",
            "Requirement already satisfied: certifi in /usr/local/lib/python3.7/dist-packages (from watson-machine-learning-client) (2022.9.24)\n",
            "Requirement already satisfied: urllib3 in /usr/local/lib/python3.7/dist-packages (from watson-machine-learning-client) (1.24.3)\n",
            "Collecting boto3\n",
            "  Downloading boto3-1.25.2-py3-none-any.whl (132 kB)\n",
            "\u001b[K     |████████████████████████████████| 132 kB 60.7 MB/s \n",
            "\u001b[?25hRequirement already satisfied: tabulate in /usr/local/lib/python3.7/dist-packages (from watson-machine-learning-client) (0.8.10)\n",
            "Requirement already satisfied: jmespath<2.0.0,>=0.7.1 in /usr/local/lib/python3.7/dist-packages (from boto3->watson-machine-learning-client) (0.10.0)\n",
            "Collecting botocore<1.29.0,>=1.28.2\n",
            "  Downloading botocore-1.28.2-py3-none-any.whl (9.3 MB)\n",
            "\u001b[K     |████████████████████████████████| 9.3 MB 47.6 MB/s \n",
            "\u001b[?25hCollecting s3transfer<0.7.0,>=0.6.0\n",
            "  Downloading s3transfer-0.6.0-py3-none-any.whl (79 kB)\n",
            "\u001b[K     |████████████████████████████████| 79 kB 6.3 MB/s \n",
            "\u001b[?25hCollecting urllib3\n",
            "  Downloading urllib3-1.26.12-py2.py3-none-any.whl (140 kB)\n",
            "\u001b[K     |████████████████████████████████| 140 kB 55.0 MB/s \n",
            "\u001b[?25hRequirement already satisfied: python-dateutil<3.0.0,>=2.1 in /usr/local/lib/python3.7/dist-packages (from botocore<1.29.0,>=1.28.2->boto3->watson-machine-learning-client) (2.8.2)\n",
            "Requirement already satisfied: six>=1.5 in /usr/local/lib/python3.7/dist-packages (from python-dateutil<3.0.0,>=2.1->botocore<1.29.0,>=1.28.2->boto3->watson-machine-learning-client) (1.15.0)\n",
            "Requirement already satisfied: ibm-cos-sdk-core==2.7.0 in /usr/local/lib/python3.7/dist-packages (from ibm-cos-sdk->watson-machine-learning-client) (2.7.0)\n",
            "Requirement already satisfied: ibm-cos-sdk-s3transfer==2.7.0 in /usr/local/lib/python3.7/dist-packages (from ibm-cos-sdk->watson-machine-learning-client) (2.7.0)\n",
            "Requirement already satisfied: docutils<0.16,>=0.10 in /usr/local/lib/python3.7/dist-packages (from ibm-cos-sdk-core==2.7.0->ibm-cos-sdk->watson-machine-learning-client) (0.15.2)\n",
            "  Downloading urllib3-1.25.11-py2.py3-none-any.whl (127 kB)\n",
            "\u001b[K     |████████████████████████████████| 127 kB 43.5 MB/s \n",
            "\u001b[?25hRequirement already satisfied: chardet<4,>=3.0.2 in /usr/local/lib/python3.7/dist-packages (from requests->watson-machine-learning-client) (3.0.4)\n",
            "Requirement already satisfied: idna<3,>=2.5 in /usr/local/lib/python3.7/dist-packages (from requests->watson-machine-learning-client) (2.10)\n",
            "Requirement already satisfied: pytz>=2017.3 in /usr/local/lib/python3.7/dist-packages (from pandas->watson-machine-learning-client) (2022.5)\n",
            "Requirement already satisfied: numpy>=1.17.3 in /usr/local/lib/python3.7/dist-packages (from pandas->watson-machine-learning-client) (1.21.6)\n",
            "Installing collected packages: urllib3, botocore, s3transfer, boto3, watson-machine-learning-client\n",
            "  Attempting uninstall: urllib3\n",
            "    Found existing installation: urllib3 1.24.3\n",
            "    Uninstalling urllib3-1.24.3:\n",
            "      Successfully uninstalled urllib3-1.24.3\n",
            "Successfully installed boto3-1.25.2 botocore-1.28.2 s3transfer-0.6.0 urllib3-1.25.11 watson-machine-learning-client-1.0.391\n"
          ]
        },
        {
          "output_type": "display_data",
          "data": {
            "application/vnd.colab-display-data+json": {
              "pip_warning": {
                "packages": [
                  "urllib3"
                ]
              }
            }
          },
          "metadata": {}
        }
      ]
    },
    {
      "cell_type": "code",
      "source": [
        "from ibm_watson_machine_learning import APIClient\n",
        "credentials ={\n",
        "    \"url\":\"https://us-south.ml.cloud.ibm.com\",\n",
        "    \"apikey\":\"mXnZA6alXjP7nBHb2MhUPvhXgLMo3f9rrj094TbXWv44\"\n",
        "}\n",
        "client = APIClient(credentials)\n",
        "client"
      ],
      "metadata": {
        "colab": {
          "base_uri": "https://localhost:8080/"
        },
        "id": "ZOpmBkMqXMrC",
        "outputId": "0b2f663d-dddf-4b7f-e444-2f8c1561f133"
      },
      "id": "ZOpmBkMqXMrC",
      "execution_count": 26,
      "outputs": [
        {
          "output_type": "stream",
          "name": "stdout",
          "text": [
            "Python 3.7 and 3.8 frameworks are deprecated and will be removed in a future release. Use Python 3.9 framework instead.\n"
          ]
        },
        {
          "output_type": "execute_result",
          "data": {
            "text/plain": [
              "<ibm_watson_machine_learning.client.APIClient at 0x7f4c20532c90>"
            ]
          },
          "metadata": {},
          "execution_count": 26
        }
      ]
    },
    {
      "cell_type": "code",
      "source": [
        "client.spaces.get_details()"
      ],
      "metadata": {
        "colab": {
          "base_uri": "https://localhost:8080/"
        },
        "id": "WY9rOBpTZgeU",
        "outputId": "7ba568c6-5e40-40fd-a25a-6672b6b40883"
      },
      "id": "WY9rOBpTZgeU",
      "execution_count": 27,
      "outputs": [
        {
          "output_type": "execute_result",
          "data": {
            "text/plain": [
              "{'resources': [{'entity': {'compute': [{'crn': 'crn:v1:bluemix:public:pm-20:us-south:a/cec083d33451444c9bdfbd8a8e68291d:db32e8a0-571b-456d-bfb7-b83d8e756301::',\n",
              "      'guid': 'db32e8a0-571b-456d-bfb7-b83d8e756301',\n",
              "      'name': 'Watson Machine Learning-uu',\n",
              "      'type': 'machine_learning'}],\n",
              "    'description': '',\n",
              "    'name': 'Digit Recognition Deploy',\n",
              "    'scope': {'bss_account_id': 'cec083d33451444c9bdfbd8a8e68291d'},\n",
              "    'stage': {'production': False},\n",
              "    'status': {'state': 'active'},\n",
              "    'storage': {'properties': {'bucket_name': '309ed175-951a-4207-ad64-06cb7532d89e',\n",
              "      'bucket_region': 'us-south',\n",
              "      'credentials': {'admin': {'access_key_id': 'b8d969e17ac94bba9e5796898ad55bdd',\n",
              "        'api_key': 'YOIs8ACBZPHx_YJnMIkItYHteMz6leUrSBQcVZcllU-F',\n",
              "        'secret_access_key': 'f116083c6d4898ece2247ffc97e4af607451ca8d20755b7c',\n",
              "        'service_id': 'ServiceId-ba6e3abe-76ec-4bd9-ad8f-50319827eb10'},\n",
              "       'editor': {'access_key_id': '494a8d8e4e6243ec95c34d93e9707aac',\n",
              "        'api_key': 'OXkChTvqwM8pr3aLtj6TOWg8S5-_WhqF_69V0yBxmuDd',\n",
              "        'resource_key_crn': 'crn:v1:bluemix:public:cloud-object-storage:global:a/cec083d33451444c9bdfbd8a8e68291d:8615fcb3-642d-456e-9ff5-898709f54c54::',\n",
              "        'secret_access_key': '346eca31e40fb9ce605aa3aa796afce4c6e11698a3eff91f',\n",
              "        'service_id': 'ServiceId-19573d95-6a4a-4077-9860-ee9b59b12677'},\n",
              "       'viewer': {'access_key_id': '7dd3d0bc444646e0b916a963e2ba1c1e',\n",
              "        'api_key': 'wXbWg4dCzL_SKbx9dj6i-BKTUErSjIKZEhNndUi7-x_T',\n",
              "        'resource_key_crn': 'crn:v1:bluemix:public:cloud-object-storage:global:a/cec083d33451444c9bdfbd8a8e68291d:8615fcb3-642d-456e-9ff5-898709f54c54::',\n",
              "        'secret_access_key': 'eb13d8f232bad3b263cb051dd5377e64af1e21888d5743bd',\n",
              "        'service_id': 'ServiceId-fa5b3014-94ab-4e41-9fa3-aec84496c7e8'}},\n",
              "      'endpoint_url': 'https://s3.us-south.cloud-object-storage.appdomain.cloud',\n",
              "      'guid': '8615fcb3-642d-456e-9ff5-898709f54c54',\n",
              "      'resource_crn': 'crn:v1:bluemix:public:cloud-object-storage:global:a/cec083d33451444c9bdfbd8a8e68291d:8615fcb3-642d-456e-9ff5-898709f54c54::'},\n",
              "     'type': 'bmcos_object_storage'}},\n",
              "   'metadata': {'created_at': '2022-10-27T07:49:42.784Z',\n",
              "    'creator_id': 'IBMid-663003ZMCA',\n",
              "    'id': '0505f5e8-00b9-481c-aefc-438df31a63c9',\n",
              "    'updated_at': '2022-10-27T07:50:05.422Z',\n",
              "    'url': '/v2/spaces/0505f5e8-00b9-481c-aefc-438df31a63c9'}}]}"
            ]
          },
          "metadata": {},
          "execution_count": 27
        }
      ]
    },
    {
      "cell_type": "code",
      "source": [
        "def guid_space_name(client,deploy):\n",
        "  space = client.spaces.get_details()\n",
        "  return (next(item for item in space['resources'] if item['entity']['name']==deploy)['metadata']['id'])"
      ],
      "metadata": {
        "id": "6AE_OrmTcHaj"
      },
      "id": "6AE_OrmTcHaj",
      "execution_count": 29,
      "outputs": []
    },
    {
      "cell_type": "code",
      "source": [
        "space_uid = guid_space_name(client,'Digit Recognition Deploy')\n",
        "space_uid"
      ],
      "metadata": {
        "colab": {
          "base_uri": "https://localhost:8080/",
          "height": 35
        },
        "id": "4VQ1mhedwoT0",
        "outputId": "e408f52e-8486-4cbd-90f8-98d6541d3d52"
      },
      "execution_count": 30,
      "outputs": [
        {
          "output_type": "execute_result",
          "data": {
            "text/plain": [
              "'0505f5e8-00b9-481c-aefc-438df31a63c9'"
            ],
            "application/vnd.google.colaboratory.intrinsic+json": {
              "type": "string"
            }
          },
          "metadata": {},
          "execution_count": 30
        }
      ],
      "id": "4VQ1mhedwoT0"
    },
    {
      "cell_type": "code",
      "source": [
        "client.set.default_space(space_uid)"
      ],
      "metadata": {
        "colab": {
          "base_uri": "https://localhost:8080/",
          "height": 35
        },
        "id": "lK7cIJM-yGS8",
        "outputId": "6bafdc3f-c894-42be-cfe3-d15bd724d0dc"
      },
      "execution_count": 31,
      "outputs": [
        {
          "output_type": "execute_result",
          "data": {
            "text/plain": [
              "'SUCCESS'"
            ],
            "application/vnd.google.colaboratory.intrinsic+json": {
              "type": "string"
            }
          },
          "metadata": {},
          "execution_count": 31
        }
      ],
      "id": "lK7cIJM-yGS8"
    },
    {
      "cell_type": "code",
      "source": [
        "client.software_specifications.list()"
      ],
      "metadata": {
        "colab": {
          "base_uri": "https://localhost:8080/"
        },
        "id": "W_HvpEQsyazJ",
        "outputId": "b2ed4402-6785-4271-99e4-d49046af1cf1"
      },
      "execution_count": 32,
      "outputs": [
        {
          "output_type": "stream",
          "name": "stdout",
          "text": [
            "-----------------------------  ------------------------------------  ----\n",
            "NAME                           ASSET_ID                              TYPE\n",
            "default_py3.6                  0062b8c9-8b7d-44a0-a9b9-46c416adcbd9  base\n",
            "kernel-spark3.2-scala2.12      020d69ce-7ac1-5e68-ac1a-31189867356a  base\n",
            "pytorch-onnx_1.3-py3.7-edt     069ea134-3346-5748-b513-49120e15d288  base\n",
            "scikit-learn_0.20-py3.6        09c5a1d0-9c1e-4473-a344-eb7b665ff687  base\n",
            "spark-mllib_3.0-scala_2.12     09f4cff0-90a7-5899-b9ed-1ef348aebdee  base\n",
            "pytorch-onnx_rt22.1-py3.9      0b848dd4-e681-5599-be41-b5f6fccc6471  base\n",
            "ai-function_0.1-py3.6          0cdb0f1e-5376-4f4d-92dd-da3b69aa9bda  base\n",
            "shiny-r3.6                     0e6e79df-875e-4f24-8ae9-62dcc2148306  base\n",
            "tensorflow_2.4-py3.7-horovod   1092590a-307d-563d-9b62-4eb7d64b3f22  base\n",
            "pytorch_1.1-py3.6              10ac12d6-6b30-4ccd-8392-3e922c096a92  base\n",
            "tensorflow_1.15-py3.6-ddl      111e41b3-de2d-5422-a4d6-bf776828c4b7  base\n",
            "runtime-22.1-py3.9             12b83a17-24d8-5082-900f-0ab31fbfd3cb  base\n",
            "scikit-learn_0.22-py3.6        154010fa-5b3b-4ac1-82af-4d5ee5abbc85  base\n",
            "default_r3.6                   1b70aec3-ab34-4b87-8aa0-a4a3c8296a36  base\n",
            "pytorch-onnx_1.3-py3.6         1bc6029a-cc97-56da-b8e0-39c3880dbbe7  base\n",
            "kernel-spark3.3-r3.6           1c9e5454-f216-59dd-a20e-474a5cdf5988  base\n",
            "pytorch-onnx_rt22.1-py3.9-edt  1d362186-7ad5-5b59-8b6c-9d0880bde37f  base\n",
            "tensorflow_2.1-py3.6           1eb25b84-d6ed-5dde-b6a5-3fbdf1665666  base\n",
            "spark-mllib_3.2                20047f72-0a98-58c7-9ff5-a77b012eb8f5  base\n",
            "tensorflow_2.4-py3.8-horovod   217c16f6-178f-56bf-824a-b19f20564c49  base\n",
            "runtime-22.1-py3.9-cuda        26215f05-08c3-5a41-a1b0-da66306ce658  base\n",
            "do_py3.8                       295addb5-9ef9-547e-9bf4-92ae3563e720  base\n",
            "autoai-ts_3.8-py3.8            2aa0c932-798f-5ae9-abd6-15e0c2402fb5  base\n",
            "tensorflow_1.15-py3.6          2b73a275-7cbf-420b-a912-eae7f436e0bc  base\n",
            "kernel-spark3.3-py3.9          2b7961e2-e3b1-5a8c-a491-482c8368839a  base\n",
            "pytorch_1.2-py3.6              2c8ef57d-2687-4b7d-acce-01f94976dac1  base\n",
            "spark-mllib_2.3                2e51f700-bca0-4b0d-88dc-5c6791338875  base\n",
            "pytorch-onnx_1.1-py3.6-edt     32983cea-3f32-4400-8965-dde874a8d67e  base\n",
            "spark-mllib_3.0-py37           36507ebe-8770-55ba-ab2a-eafe787600e9  base\n",
            "spark-mllib_2.4                390d21f8-e58b-4fac-9c55-d7ceda621326  base\n",
            "xgboost_0.82-py3.6             39e31acd-5f30-41dc-ae44-60233c80306e  base\n",
            "pytorch-onnx_1.2-py3.6-edt     40589d0e-7019-4e28-8daa-fb03b6f4fe12  base\n",
            "default_r36py38                41c247d3-45f8-5a71-b065-8580229facf0  base\n",
            "autoai-ts_rt22.1-py3.9         4269d26e-07ba-5d40-8f66-2d495b0c71f7  base\n",
            "autoai-obm_3.0                 42b92e18-d9ab-567f-988a-4240ba1ed5f7  base\n",
            "pmml-3.0_4.3                   493bcb95-16f1-5bc5-bee8-81b8af80e9c7  base\n",
            "spark-mllib_2.4-r_3.6          49403dff-92e9-4c87-a3d7-a42d0021c095  base\n",
            "xgboost_0.90-py3.6             4ff8d6c2-1343-4c18-85e1-689c965304d3  base\n",
            "pytorch-onnx_1.1-py3.6         50f95b2a-bc16-43bb-bc94-b0bed208c60b  base\n",
            "autoai-ts_3.9-py3.8            52c57136-80fa-572e-8728-a5e7cbb42cde  base\n",
            "spark-mllib_2.4-scala_2.11     55a70f99-7320-4be5-9fb9-9edb5a443af5  base\n",
            "spark-mllib_3.0                5c1b0ca2-4977-5c2e-9439-ffd44ea8ffe9  base\n",
            "autoai-obm_2.0                 5c2e37fa-80b8-5e77-840f-d912469614ee  base\n",
            "spss-modeler_18.1              5c3cad7e-507f-4b2a-a9a3-ab53a21dee8b  base\n",
            "cuda-py3.8                     5d3232bf-c86b-5df4-a2cd-7bb870a1cd4e  base\n",
            "autoai-kb_3.1-py3.7            632d4b22-10aa-5180-88f0-f52dfb6444d7  base\n",
            "pytorch-onnx_1.7-py3.8         634d3cdc-b562-5bf9-a2d4-ea90a478456b  base\n",
            "spark-mllib_2.3-r_3.6          6586b9e3-ccd6-4f92-900f-0f8cb2bd6f0c  base\n",
            "tensorflow_2.4-py3.7           65e171d7-72d1-55d9-8ebb-f813d620c9bb  base\n",
            "spss-modeler_18.2              687eddc9-028a-4117-b9dd-e57b36f1efa5  base\n",
            "-----------------------------  ------------------------------------  ----\n",
            "Note: Only first 50 records were displayed. To display more use 'limit' parameter.\n"
          ]
        }
      ],
      "id": "W_HvpEQsyazJ"
    },
    {
      "cell_type": "code",
      "source": [
        "software_space_uid = client.software_specifications.get_uid_by_name('tensorflow_rt22.1-py3.9')\n",
        "software_space_uid"
      ],
      "metadata": {
        "colab": {
          "base_uri": "https://localhost:8080/",
          "height": 35
        },
        "id": "kkO3JEcdzJ8F",
        "outputId": "ddb2b07e-3f2d-4baa-8381-02b603ef2fb3"
      },
      "execution_count": 33,
      "outputs": [
        {
          "output_type": "execute_result",
          "data": {
            "text/plain": [
              "'acd9c798-6974-5d2f-a657-ce06e986df4d'"
            ],
            "application/vnd.google.colaboratory.intrinsic+json": {
              "type": "string"
            }
          },
          "metadata": {},
          "execution_count": 33
        }
      ],
      "id": "kkO3JEcdzJ8F"
    },
    {
      "cell_type": "code",
      "source": [
        "model_details = client.repository.store_model(model='digit-recognition.tar',meta_props={\n",
        "    client.repository.ModelMetaNames.NAME:\"CNN Digit recognition model repo\",\n",
        "    client.repository.ModelMetaNames.TYPE:\"tensorflow_2.7\",\n",
        "    client.repository.ModelMetaNames.SOFTWARE_SPEC_UID:software_space_uid\n",
        "})"
      ],
      "metadata": {
        "id": "ssy28XVLzvJ8"
      },
      "execution_count": 35,
      "outputs": [],
      "id": "ssy28XVLzvJ8"
    },
    {
      "cell_type": "code",
      "source": [
        "model_details"
      ],
      "metadata": {
        "colab": {
          "base_uri": "https://localhost:8080/"
        },
        "id": "SmNR2ScO0ylg",
        "outputId": "401bc631-33f0-416a-dc33-0a61c6d56a8e"
      },
      "execution_count": 36,
      "outputs": [
        {
          "output_type": "execute_result",
          "data": {
            "text/plain": [
              "{'entity': {'hybrid_pipeline_software_specs': [],\n",
              "  'software_spec': {'id': 'acd9c798-6974-5d2f-a657-ce06e986df4d',\n",
              "   'name': 'tensorflow_rt22.1-py3.9'},\n",
              "  'type': 'tensorflow_2.7'},\n",
              " 'metadata': {'created_at': '2022-10-27T08:23:13.238Z',\n",
              "  'id': 'fd2ef00d-2cb2-41d5-a269-3271132d121a',\n",
              "  'modified_at': '2022-10-27T08:23:33.766Z',\n",
              "  'name': 'CNN Digit recognition model repo',\n",
              "  'owner': 'IBMid-663003ZMCA',\n",
              "  'resource_key': 'adad3d41-db25-435e-9b0e-d81219465dff',\n",
              "  'space_id': '0505f5e8-00b9-481c-aefc-438df31a63c9'},\n",
              " 'system': {'warnings': []}}"
            ]
          },
          "metadata": {},
          "execution_count": 36
        }
      ],
      "id": "SmNR2ScO0ylg"
    },
    {
      "cell_type": "code",
      "source": [
        "model_id = client.repository.get_model_id(model_details)\n",
        "model_id"
      ],
      "metadata": {
        "colab": {
          "base_uri": "https://localhost:8080/",
          "height": 35
        },
        "id": "75plkaAf01TW",
        "outputId": "24b893fc-5ea5-4f2f-baf4-912fe3c464db"
      },
      "execution_count": 37,
      "outputs": [
        {
          "output_type": "execute_result",
          "data": {
            "text/plain": [
              "'fd2ef00d-2cb2-41d5-a269-3271132d121a'"
            ],
            "application/vnd.google.colaboratory.intrinsic+json": {
              "type": "string"
            }
          },
          "metadata": {},
          "execution_count": 37
        }
      ],
      "id": "75plkaAf01TW"
    },
    {
      "cell_type": "code",
      "source": [
        "client.repository.download(model_id,'DigitRecog_IBM_model.tar.gz')"
      ],
      "metadata": {
        "colab": {
          "base_uri": "https://localhost:8080/",
          "height": 53
        },
        "id": "GJQgsVdK1D5z",
        "outputId": "66eaa74e-5be4-4adc-f2ef-d230352407d1"
      },
      "execution_count": 40,
      "outputs": [
        {
          "output_type": "stream",
          "name": "stdout",
          "text": [
            "Successfully saved model content to file: 'DigitRecog_IBM_model.tar.gz'\n"
          ]
        },
        {
          "output_type": "execute_result",
          "data": {
            "text/plain": [
              "'/content/DigitRecog_IBM_model.tar.gz'"
            ],
            "application/vnd.google.colaboratory.intrinsic+json": {
              "type": "string"
            }
          },
          "metadata": {},
          "execution_count": 40
        }
      ],
      "id": "GJQgsVdK1D5z"
    }
  ],
  "metadata": {
    "kernelspec": {
      "display_name": "Python 3.10.4 64-bit",
      "language": "python",
      "name": "python3"
    },
    "language_info": {
      "codemirror_mode": {
        "name": "ipython",
        "version": 3
      },
      "file_extension": ".py",
      "mimetype": "text/x-python",
      "name": "python",
      "nbconvert_exporter": "python",
      "pygments_lexer": "ipython3",
      "version": "3.10.4"
    },
    "vscode": {
      "interpreter": {
        "hash": "e8899eb02dfbc033aab5733bdae1bd213fa031d40331094008e8673d99ebab63"
      }
    },
    "colab": {
      "provenance": []
    }
  },
  "nbformat": 4,
  "nbformat_minor": 5
}