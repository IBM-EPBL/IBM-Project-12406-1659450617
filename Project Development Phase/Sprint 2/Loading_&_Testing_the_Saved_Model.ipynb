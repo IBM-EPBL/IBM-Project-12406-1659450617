{
  "cells": [
    {
      "cell_type": "markdown",
      "source": [
        "# Sprint 2 - Loading & Testing the Saved Model✅\n",
        "---\n",
        "\n",
        "> Team Id : PNT2022TMID32148 "
      ],
      "metadata": {
        "id": "8w8FPmNwq_Fm"
      }
    },
    {
      "cell_type": "code",
      "execution_count": 29,
      "metadata": {
        "id": "LtHA7HBwRVt-"
      },
      "outputs": [],
      "source": [
        "from keras.models import load_model\n",
        "import matplotlib.pyplot as plt"
      ]
    },
    {
      "cell_type": "code",
      "execution_count": 30,
      "metadata": {
        "id": "_KwwHOBGRVuT"
      },
      "outputs": [],
      "source": [
        "model=load_model('digit-recognition.h5')\n",
        "from PIL import Image\n",
        "import numpy as np\n",
        "import matplotlib.pyplot as plt\n",
        "%matplotlib inline"
      ]
    },
    {
      "cell_type": "code",
      "source": [
        "img=Image.open('img_1.jpg')\n",
        "plt.imshow(img)"
      ],
      "metadata": {
        "colab": {
          "base_uri": "https://localhost:8080/",
          "height": 282
        },
        "id": "0ycMgbIQHsUF",
        "outputId": "17bc1ee1-61fd-4c61-e021-6906e0d72b88"
      },
      "execution_count": 31,
      "outputs": [
        {
          "output_type": "execute_result",
          "data": {
            "text/plain": [
              "<matplotlib.image.AxesImage at 0x7f7c41c51150>"
            ]
          },
          "metadata": {},
          "execution_count": 31
        },
        {
          "output_type": "display_data",
          "data": {
            "text/plain": [
              "<Figure size 432x288 with 1 Axes>"
            ],
            "image/png": "[encoded data removed]"
          },
          "metadata": {
            "needs_background": "light"
          }
        }
      ]
    },
    {
      "cell_type": "code",
      "source": [
        "img=Image.open('img_2.jpg')\n",
        "plt.imshow(img)  "
      ],
      "metadata": {
        "colab": {
          "base_uri": "https://localhost:8080/",
          "height": 282
        },
        "id": "HYlskvWG8xsy",
        "outputId": "b600ad8b-8007-4247-dddb-db07a235c243"
      },
      "execution_count": 32,
      "outputs": [
        {
          "output_type": "execute_result",
          "data": {
            "text/plain": [
              "<matplotlib.image.AxesImage at 0x7f7c41c645d0>"
            ]
          },
          "metadata": {},
          "execution_count": 32
        },
        {
          "output_type": "display_data",
          "data": {
            "text/plain": [
              "<Figure size 432x288 with 1 Axes>"
            ],
            "image/png": "[encoded data removed]"
          },
          "metadata": {
            "needs_background": "light"
          }
        }
      ]
    },
    {
      "cell_type": "code",
      "source": [
        "img=Image.open('img_3.jpg')\n",
        "plt.imshow(img)  "
      ],
      "metadata": {
        "colab": {
          "base_uri": "https://localhost:8080/",
          "height": 282
        },
        "id": "eF_WEJlLHDN4",
        "outputId": "8a8abd43-70f3-4fe9-b25e-60b7287be971"
      },
      "execution_count": 33,
      "outputs": [
        {
          "output_type": "execute_result",
          "data": {
            "text/plain": [
              "<matplotlib.image.AxesImage at 0x7f7c41b037d0>"
            ]
          },
          "metadata": {},
          "execution_count": 33
        },
        {
          "output_type": "display_data",
          "data": {
            "text/plain": [
              "<Figure size 432x288 with 1 Axes>"
            ],
            "image/png": "[encoded data removed]"
          },
          "metadata": {
            "needs_background": "light"
          }
        }
      ]
    },
    {
      "cell_type": "code",
      "source": [
        "img=Image.open('img_4.jpg')\n",
        "plt.imshow(img)  "
      ],
      "metadata": {
        "colab": {
          "base_uri": "https://localhost:8080/",
          "height": 282
        },
        "id": "Ztc7U1U8HhfE",
        "outputId": "fc510e71-203c-482b-c357-52e05212105b"
      },
      "execution_count": 34,
      "outputs": [
        {
          "output_type": "execute_result",
          "data": {
            "text/plain": [
              "<matplotlib.image.AxesImage at 0x7f7c41a7b090>"
            ]
          },
          "metadata": {},
          "execution_count": 34
        },
        {
          "output_type": "display_data",
          "data": {
            "text/plain": [
              "<Figure size 432x288 with 1 Axes>"
            ],
            "image/png": "[encoded data removed]"
          },
          "metadata": {
            "needs_background": "light"
          }
        }
      ]
    },
    {
      "cell_type": "code",
      "execution_count": 37,
      "metadata": {
        "id": "9nPoZZxcRVuZ",
        "outputId": "8d990368-1b5e-41dd-c0b0-564353c1b52b",
        "colab": {
          "base_uri": "https://localhost:8080/"
        }
      },
      "outputs": [
        {
          "output_type": "stream",
          "name": "stdout",
          "text": [
            "1/1 [==============================] - 0s 20ms/step\n",
            "The img_1 predicted as value 0\n",
            "1/1 [==============================] - 0s 20ms/step\n",
            "The img_2 predicted as value 9\n",
            "1/1 [==============================] - 0s 21ms/step\n",
            "The img_3 predicted as value 3\n",
            "1/1 [==============================] - 0s 19ms/step\n",
            "The img_4 predicted as value 7\n"
          ]
        }
      ],
      "source": [
        "for index in range(1,5):\n",
        "    img=Image.open('img_'+str(index)+'.jpg').convert(\"L\")\n",
        "    img = img.resize((28,28))\n",
        "    im2arr=np.array(img)\n",
        "    im2arr = im2arr.reshape(1,28,28,1)\n",
        "    y_pred = model.predict(im2arr)\n",
        "    print(f\"The img_{index} predicted as value {np.argmax(y_pred)}\")"
      ]
    }
  ],
  "metadata": {
    "kernelspec": {
      "display_name": "Python 3.10.4 64-bit",
      "language": "python",
      "name": "python3"
    },
    "language_info": {
      "codemirror_mode": {
        "name": "ipython",
        "version": 3
      },
      "file_extension": ".py",
      "mimetype": "text/x-python",
      "name": "python",
      "nbconvert_exporter": "python",
      "pygments_lexer": "ipython3",
      "version": "3.10.4"
    },
    "orig_nbformat": 4,
    "vscode": {
      "interpreter": {
        "hash": "e8899eb02dfbc033aab5733bdae1bd213fa031d40331094008e8673d99ebab63"
      }
    },
    "colab": {
      "provenance": []
    }
  },
  "nbformat": 4,
  "nbformat_minor": 0
}